{
  "nbformat": 4,
  "nbformat_minor": 0,
  "metadata": {
    "colab": {
      "name": "Finding_The_Pattern_In_The_String.ipynb",
      "provenance": [],
      "collapsed_sections": []
    },
    "kernelspec": {
      "name": "python3",
      "display_name": "Python 3"
    },
    "language_info": {
      "name": "python"
    }
  },
  "cells": [
    {
      "cell_type": "code",
      "execution_count": 8,
      "metadata": {
        "colab": {
          "base_uri": "https://localhost:8080/"
        },
        "id": "0Bm8zYfjoANL",
        "outputId": "37badd52-08e3-4428-fe2a-27dedf5205d2"
      },
      "outputs": [
        {
          "output_type": "stream",
          "name": "stdout",
          "text": [
            "Whats the string?: aaabbbaaagggbbbaaa\n",
            "Whats the Pattern?: aaa\n",
            "aaa 3 [0, 6, 15]\n"
          ]
        }
      ],
      "source": [
        "str = input('Whats the string?: ')\n",
        "\n",
        "P = input('Whats the Pattern?: ')\n",
        "\n",
        "count = 0\n",
        "List=[]\n",
        "\n",
        "for i in range(len(str)-len(P)+1):\n",
        "  if(str[i:i+len(P)] == P):\n",
        "    count = count+1\n",
        "    List.append(i)\n",
        "\n",
        "print(P, count, List)\n"
      ]
    }
  ]
}