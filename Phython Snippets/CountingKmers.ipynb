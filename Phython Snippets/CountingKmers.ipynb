{
  "nbformat": 4,
  "nbformat_minor": 0,
  "metadata": {
    "colab": {
      "provenance": [],
      "collapsed_sections": []
    },
    "kernelspec": {
      "name": "python3",
      "display_name": "Python 3"
    },
    "language_info": {
      "name": "python"
    }
  },
  "cells": [
    {
      "cell_type": "code",
      "execution_count": 18,
      "metadata": {
        "colab": {
          "base_uri": "https://localhost:8080/"
        },
        "id": "v9Tql0Rr1XsW",
        "outputId": "c84e1c6c-606f-43af-ae5b-c0c4ecf58104"
      },
      "outputs": [
        {
          "output_type": "stream",
          "name": "stdout",
          "text": [
            "sdsfdgdfgfdgfhgf\n",
            "2\n",
            "[1, 1, 1, 2, 2, 1, 1, 1, 3, 2, 2, 3, 1, 1, 3]\n"
          ]
        }
      ],
      "source": [
        "str = input()\n",
        "k = int(input())\n",
        "Pattern = \" \"\n",
        "Count = []\n",
        "\n",
        "def FrequentStrings(str, k):\n",
        "  for i in range (len(str)-k+1):\n",
        "    Pattern = str[i:i+k]\n",
        "    count = 0\n",
        "    for i in range (len(str)-len(Pattern)+1):\n",
        "      if str[i:i+len(Pattern)] == Pattern:\n",
        "        count = count+1\n",
        "      else:\n",
        "        continue\n",
        "    Count.extend([count])\n",
        "  print(Count)\n",
        "  \n",
        "FrequentStrings(str, k)  "
      ]
    }
  ]
}