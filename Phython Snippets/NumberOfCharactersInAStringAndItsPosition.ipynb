{
  "nbformat": 4,
  "nbformat_minor": 0,
  "metadata": {
    "colab": {
      "name": "NumberOfCharactersInAStringAndItsPosition.ipynb",
      "provenance": []
    },
    "kernelspec": {
      "name": "python3",
      "display_name": "Python 3"
    },
    "language_info": {
      "name": "python"
    }
  },
  "cells": [
    {
      "cell_type": "code",
      "execution_count": null,
      "metadata": {
        "colab": {
          "base_uri": "https://localhost:8080/"
        },
        "id": "_QFdLWzAuAFq",
        "outputId": "0f5d6b54-4627-4e55-dac5-a2119e70cec7"
      },
      "outputs": [
        {
          "output_type": "stream",
          "name": "stdout",
          "text": [
            "Give the string: Wwwddfggnn\n",
            "Character you want to count and know position?: G\n",
            "0 []\n"
          ]
        }
      ],
      "source": [
        "str = input('Give the string: ')\n",
        "N = input('Character you want to count and know position?: ')\n",
        "\n",
        "Count = str.count(N)\n",
        "# Find = str.find(N)\n",
        "\n",
        "List=[]\n",
        "\n",
        "for i in range(len(str)):\n",
        "  if(str[i] == N):\n",
        "    List.append(i)\n",
        "\n",
        "\n",
        "print(Count,List)"
      ]
    }
  ]
}